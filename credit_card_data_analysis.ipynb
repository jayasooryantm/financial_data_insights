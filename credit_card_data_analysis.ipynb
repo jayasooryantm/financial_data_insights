{
 "cells": [
  {
   "cell_type": "code",
   "execution_count": null,
   "metadata": {},
   "outputs": [],
   "source": []
  },
  {
   "attachments": {},
   "cell_type": "markdown",
   "metadata": {},
   "source": [
    "# Credit Card Data Analysis for Customer Approval"
   ]
  },
  {
   "attachments": {},
   "cell_type": "markdown",
   "metadata": {},
   "source": [
    "### Ask Phase"
   ]
  },
  {
   "attachments": {},
   "cell_type": "markdown",
   "metadata": {},
   "source": [
    "\n",
    "\n",
    "1. What type of company does your client represent, and what are they asking you to accomplish?\n",
    "    - The client represent a bank, based on the credit card data bank needs to make decision on which customers would benifit from the credit card and which customers would be unable to pay back the money. based on the previous customer data bank need to make decision on upcoming customers to approve credit cards in such a way that it won't be a burden to the company.\n",
    "\n",
    "2. What are the key factors involved in the business task you are investigating?\n",
    "    - For the current scenario client has provided a dataset of credit card application data, which contains card approved or not, age, number of derogatory reports, ownership of house, etc. by analysing this dataset we need pull out insights about the card holders.\n",
    "        Below are the key factors that under investigation:\n",
    "        - Who are the customers maintaining credit card account without failing the repayment\n",
    "        - Who are the customers failing to repay the amount\n",
    "    Based on these two factors more sub queries has to be made, asking underlying reason for the outcome would make a clear picture.\n",
    "\n",
    "3. What type of data will be appropriate for your analysis?\n",
    "    - client has provided credit card application dataset which would be used for this analysis.\n",
    "\n",
    "4. Where will you obtain that data?\n",
    "    - Client provided data\n",
    "\n",
    "5. Who is your audience, and what materials will help you present to them effectively?\n",
    "    - We will be working with financial analyst, other stakeholder like financial department manager and CFO will be involved in this project\n"
   ]
  },
  {
   "attachments": {},
   "cell_type": "markdown",
   "metadata": {},
   "source": [
    "### Prepare Phase"
   ]
  },
  {
   "attachments": {},
   "cell_type": "markdown",
   "metadata": {},
   "source": [
    "\n",
    "\n",
    "1. Where is your data located?\n",
    "    - Google BigQuery\n",
    "2. How is the data organized?\n",
    "    - As a table (only one data set is available)\n",
    "3. Are there issues with bias or credibility in this data? Does your data ROCCC?\n",
    "    - Yes it does satisfies the ROCCC concepts\n",
    "4. How are you addressing licensing, privacy, security, and accessibility?\n",
    "    - Data given by client so all of them are considered by the client\n",
    "5. How did you verify the data’s integrity?\n",
    "    - Provided by the client\n",
    "6. How does it help you answer your question?\n",
    "    - Dataset contains all required columns so it would be sufficient to answer the questions\n",
    "7. Are there any problems with the data?\n",
    "    - Data needs to be cleaned since it contains null values and format of the data"
   ]
  },
  {
   "attachments": {},
   "cell_type": "markdown",
   "metadata": {},
   "source": [
    "### Process Phase\n"
   ]
  },
  {
   "attachments": {},
   "cell_type": "markdown",
   "metadata": {},
   "source": [
    "1. For the processing of data duplicated the table with a name process_data\n",
    "> Create table `creditcard_dataset.processed_data` as (select * from `creditcard_dataset.creditcard`)\n"
   ]
  },
  {
   "attachments": {},
   "cell_type": "markdown",
   "metadata": {},
   "source": [
    "\n",
    "2. The age column is in decimal format which is not usually used, it is changed to integer by flooring the age\n",
    "> UPDATE `creditcard_dataset.processed_data`\n",
    "SET age = FLOOR(age)\n",
    "WHERE TRUE\n"
   ]
  },
  {
   "attachments": {},
   "cell_type": "markdown",
   "metadata": {},
   "source": [
    "\n",
    "3. Few rows contains age = 0 which is not logically correct, so deleting the rows since it doesn't significantly impact the analysis\n",
    "> DELETE FROM `creditcard_dataset.processed_data`\n",
    "where age < 18\n"
   ]
  },
  {
   "attachments": {},
   "cell_type": "markdown",
   "metadata": {},
   "source": [
    "\n",
    "4. The income column is devided by 10,000, we don't need that right now so converting it back to the normal form.\n",
    "> Update `creditcard_dataset.processed_data`\n",
    "set income = income * 10000\n",
    "where TRUE\n"
   ]
  },
  {
   "attachments": {},
   "cell_type": "markdown",
   "metadata": {},
   "source": [
    "\n",
    "5. changing the decimal points to 2 since we don't need so many trailing zeros after the decimal points\n",
    "> Update `creditcard_dataset.processed_data`\n",
    "set income = ROUND(income, 2)\n",
    "where TRUE\n"
   ]
  },
  {
   "attachments": {},
   "cell_type": "markdown",
   "metadata": {},
   "source": [
    "\n",
    "6. share column seems to be incorrect where it is the ratio of monthly expenditure devided by anual income\n",
    "> Update `creditcard_dataset.processed_data`\n",
    "set share = expenditure/income\n",
    "where TRUE\n"
   ]
  },
  {
   "cell_type": "markdown",
   "metadata": {},
   "source": [
    "\n",
    "7. There are many accounts with more than 10 active credit accounts which is suspecious and not practically attainable from a financial perspective, we need to check summarised count of active accounts\n",
    "> select active, count(active)\n",
    "from `creditcard_dataset.processed_data`\n",
    "group by active"
   ]
  },
  {
   "attachments": {},
   "cell_type": "markdown",
   "metadata": {},
   "source": [
    "8. Checking the number of major cards with each customer\n",
    "> select majorcards, count(majorcards)\n",
    "from `creditcard_dataset.processed_data`\n",
    "group by majorcards"
   ]
  },
  {
   "attachments": {},
   "cell_type": "markdown",
   "metadata": {},
   "source": [
    "### Since all the data is cleaned for analysis we can proceed to the analysis phace, **but we might have to exclude active column due to inconsitency in the data**."
   ]
  },
  {
   "attachments": {},
   "cell_type": "markdown",
   "metadata": {},
   "source": [
    "### Analysis Phase"
   ]
  },
  {
   "cell_type": "markdown",
   "metadata": {},
   "source": []
  }
 ],
 "metadata": {
  "language_info": {
   "name": "python"
  },
  "orig_nbformat": 4
 },
 "nbformat": 4,
 "nbformat_minor": 2
}
